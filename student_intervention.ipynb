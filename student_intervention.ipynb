{
 "cells": [
  {
   "cell_type": "markdown",
   "metadata": {},
   "source": [
    "# Machine Learning Engineer Nanodegree\n",
    "## Supervised Learning\n",
    "## Project: Building a Student Intervention System"
   ]
  },
  {
   "cell_type": "markdown",
   "metadata": {},
   "source": [
    "Welcome to the second project of the Machine Learning Engineer Nanodegree! In this notebook, some template code has already been provided for you, and it will be your job to implement the additional functionality necessary to successfully complete this project. Sections that begin with **'Implementation'** in the header indicate that the following block of code will require additional functionality which you must provide. Instructions will be provided for each section and the specifics of the implementation are marked in the code block with a `'TODO'` statement. Please be sure to read the instructions carefully!\n",
    "\n",
    "In addition to implementing code, there will be questions that you must answer which relate to the project and your implementation. Each section where you will answer a question is preceded by a **'Question X'** header. Carefully read each question and provide thorough answers in the following text boxes that begin with **'Answer:'**. Your project submission will be evaluated based on your answers to each of the questions and the implementation you provide.  \n",
    "\n",
    ">**Note:** Code and Markdown cells can be executed using the **Shift + Enter** keyboard shortcut. In addition, Markdown cells can be edited by typically double-clicking the cell to enter edit mode."
   ]
  },
  {
   "cell_type": "markdown",
   "metadata": {},
   "source": [
    "### Question 1 - Classification vs. Regression\n",
    "*Your goal for this project is to identify students who might need early intervention before they fail to graduate. Which type of supervised learning problem is this, classification or regression? Why?*"
   ]
  },
  {
   "cell_type": "markdown",
   "metadata": {},
   "source": [
    "**Answer: **\n",
    "This is a classification problem. The algorithm will classify students into 2 groups, the one that will graduate and the ones that will not. A student that will not graduate will require intervention."
   ]
  },
  {
   "cell_type": "markdown",
   "metadata": {},
   "source": [
    "## Exploring the Data\n",
    "Run the code cell below to load necessary Python libraries and load the student data. Note that the last column from this dataset, `'passed'`, will be our target label (whether the student graduated or didn't graduate). All other columns are features about each student."
   ]
  },
  {
   "cell_type": "code",
   "execution_count": 1,
   "metadata": {
    "collapsed": false
   },
   "outputs": [
    {
     "name": "stdout",
     "output_type": "stream",
     "text": [
      "Student data read successfully!\n"
     ]
    }
   ],
   "source": [
    "# Import libraries\n",
    "import numpy as np\n",
    "import pandas as pd\n",
    "from time import time\n",
    "from sklearn.metrics import f1_score\n",
    "\n",
    "# Read student data\n",
    "student_data = pd.read_csv(\"student-data.csv\")\n",
    "print \"Student data read successfully!\""
   ]
  },
  {
   "cell_type": "markdown",
   "metadata": {},
   "source": [
    "### Implementation: Data Exploration\n",
    "Let's begin by investigating the dataset to determine how many students we have information on, and learn about the graduation rate among these students. In the code cell below, you will need to compute the following:\n",
    "- The total number of students, `n_students`.\n",
    "- The total number of features for each student, `n_features`.\n",
    "- The number of those students who passed, `n_passed`.\n",
    "- The number of those students who failed, `n_failed`.\n",
    "- The graduation rate of the class, `grad_rate`, in percent (%).\n"
   ]
  },
  {
   "cell_type": "code",
   "execution_count": 2,
   "metadata": {
    "collapsed": false
   },
   "outputs": [
    {
     "name": "stdout",
     "output_type": "stream",
     "text": [
      "Total number of students: 395\n",
      "Number of features: 30\n",
      "Number of students who passed: 265\n",
      "Number of students who failed: 130\n",
      "Graduation rate of the class: 67.09%\n"
     ]
    }
   ],
   "source": [
    "# TODO: Calculate number of students\n",
    "n_students = len(student_data.index)\n",
    "\n",
    "# TODO: Calculate number of features\n",
    "n_features = len(student_data.columns[:-1])\n",
    "\n",
    "# TODO: Calculate passing students\n",
    "n_passed = len(student_data['passed'][lambda x: x=='yes'])\n",
    "\n",
    "# TODO: Calculate failing students\n",
    "n_failed = len(student_data['passed'][lambda x: x=='no'])\n",
    "\n",
    "# TODO: Calculate graduation rate\n",
    "grad_rate = (n_passed * 100.0) / n_students\n",
    "\n",
    "# Print the results\n",
    "print \"Total number of students: {}\".format(n_students)\n",
    "print \"Number of features: {}\".format(n_features)\n",
    "print \"Number of students who passed: {}\".format(n_passed)\n",
    "print \"Number of students who failed: {}\".format(n_failed)\n",
    "print \"Graduation rate of the class: {:.2f}%\".format(grad_rate)"
   ]
  },
  {
   "cell_type": "markdown",
   "metadata": {},
   "source": [
    "## Preparing the Data\n",
    "In this section, we will prepare the data for modeling, training and testing.\n",
    "\n",
    "### Identify feature and target columns\n",
    "It is often the case that the data you obtain contains non-numeric features. This can be a problem, as most machine learning algorithms expect numeric data to perform computations with.\n",
    "\n",
    "Run the code cell below to separate the student data into feature and target columns to see if any features are non-numeric."
   ]
  },
  {
   "cell_type": "code",
   "execution_count": 3,
   "metadata": {
    "collapsed": false
   },
   "outputs": [
    {
     "name": "stdout",
     "output_type": "stream",
     "text": [
      "Feature columns:\n",
      "['school', 'sex', 'age', 'address', 'famsize', 'Pstatus', 'Medu', 'Fedu', 'Mjob', 'Fjob', 'reason', 'guardian', 'traveltime', 'studytime', 'failures', 'schoolsup', 'famsup', 'paid', 'activities', 'nursery', 'higher', 'internet', 'romantic', 'famrel', 'freetime', 'goout', 'Dalc', 'Walc', 'health', 'absences']\n",
      "\n",
      "Target column: passed\n",
      "\n",
      "Feature values:\n",
      "  school sex  age address famsize Pstatus  Medu  Fedu     Mjob      Fjob  \\\n",
      "0     GP   F   18       U     GT3       A     4     4  at_home   teacher   \n",
      "1     GP   F   17       U     GT3       T     1     1  at_home     other   \n",
      "2     GP   F   15       U     LE3       T     1     1  at_home     other   \n",
      "3     GP   F   15       U     GT3       T     4     2   health  services   \n",
      "4     GP   F   16       U     GT3       T     3     3    other     other   \n",
      "\n",
      "    ...    higher internet  romantic  famrel  freetime goout Dalc Walc health  \\\n",
      "0   ...       yes       no        no       4         3     4    1    1      3   \n",
      "1   ...       yes      yes        no       5         3     3    1    1      3   \n",
      "2   ...       yes      yes        no       4         3     2    2    3      3   \n",
      "3   ...       yes      yes       yes       3         2     2    1    1      5   \n",
      "4   ...       yes       no        no       4         3     2    1    2      5   \n",
      "\n",
      "  absences  \n",
      "0        6  \n",
      "1        4  \n",
      "2       10  \n",
      "3        2  \n",
      "4        4  \n",
      "\n",
      "[5 rows x 30 columns]\n"
     ]
    }
   ],
   "source": [
    "# Extract feature columns\n",
    "feature_cols = list(student_data.columns[:-1])\n",
    "\n",
    "# Extract target column 'passed'\n",
    "target_col = student_data.columns[-1] \n",
    "\n",
    "# Show the list of columns\n",
    "print \"Feature columns:\\n{}\".format(feature_cols)\n",
    "print \"\\nTarget column: {}\".format(target_col)\n",
    "\n",
    "# Separate the data into feature data and target data (X_all and y_all, respectively)\n",
    "X_all = student_data[feature_cols]\n",
    "y_all = student_data[target_col]\n",
    "\n",
    "# Show the feature information by printing the first five rows\n",
    "print \"\\nFeature values:\"\n",
    "print X_all.head()\n",
    "\n",
    "#Data Analysis\n"
   ]
  },
  {
   "cell_type": "markdown",
   "metadata": {},
   "source": [
    "### Preprocess Feature Columns\n",
    "\n",
    "As you can see, there are several non-numeric columns that need to be converted! Many of them are simply `yes`/`no`, e.g. `internet`. These can be reasonably converted into `1`/`0` (binary) values.\n",
    "\n",
    "Other columns, like `Mjob` and `Fjob`, have more than two values, and are known as _categorical variables_. The recommended way to handle such a column is to create as many columns as possible values (e.g. `Fjob_teacher`, `Fjob_other`, `Fjob_services`, etc.), and assign a `1` to one of them and `0` to all others.\n",
    "\n",
    "These generated columns are sometimes called _dummy variables_, and we will use the [`pandas.get_dummies()`](http://pandas.pydata.org/pandas-docs/stable/generated/pandas.get_dummies.html?highlight=get_dummies#pandas.get_dummies) function to perform this transformation. Run the code cell below to perform the preprocessing routine discussed in this section."
   ]
  },
  {
   "cell_type": "code",
   "execution_count": 4,
   "metadata": {
    "collapsed": false
   },
   "outputs": [
    {
     "name": "stdout",
     "output_type": "stream",
     "text": [
      "Processed feature columns (48 total features):\n",
      "['school_GP', 'school_MS', 'sex_F', 'sex_M', 'age', 'address_R', 'address_U', 'famsize_GT3', 'famsize_LE3', 'Pstatus_A', 'Pstatus_T', 'Medu', 'Fedu', 'Mjob_at_home', 'Mjob_health', 'Mjob_other', 'Mjob_services', 'Mjob_teacher', 'Fjob_at_home', 'Fjob_health', 'Fjob_other', 'Fjob_services', 'Fjob_teacher', 'reason_course', 'reason_home', 'reason_other', 'reason_reputation', 'guardian_father', 'guardian_mother', 'guardian_other', 'traveltime', 'studytime', 'failures', 'schoolsup', 'famsup', 'paid', 'activities', 'nursery', 'higher', 'internet', 'romantic', 'famrel', 'freetime', 'goout', 'Dalc', 'Walc', 'health', 'absences']\n"
     ]
    }
   ],
   "source": [
    "def preprocess_features(X):\n",
    "    ''' Preprocesses the student data and converts non-numeric binary variables into\n",
    "        binary (0/1) variables. Converts categorical variables into dummy variables. '''\n",
    "    \n",
    "    # Initialize new output DataFrame\n",
    "    output = pd.DataFrame(index = X.index)\n",
    "\n",
    "    # Investigate each feature column for the data\n",
    "    for col, col_data in X.iteritems():\n",
    "        \n",
    "        # If data type is non-numeric, replace all yes/no values with 1/0\n",
    "        if col_data.dtype == object:\n",
    "            col_data = col_data.replace(['yes', 'no'], [1, 0])\n",
    "\n",
    "        # If data type is categorical, convert to dummy variables\n",
    "        if col_data.dtype == object:\n",
    "            # Example: 'school' => 'school_GP' and 'school_MS'\n",
    "            col_data = pd.get_dummies(col_data, prefix = col)  \n",
    "        \n",
    "        # Collect the revised columns\n",
    "        output = output.join(col_data)\n",
    "    \n",
    "    return output\n",
    "\n",
    "X_all = preprocess_features(X_all)\n",
    "print \"Processed feature columns ({} total features):\\n{}\".format(len(X_all.columns), list(X_all.columns))"
   ]
  },
  {
   "cell_type": "markdown",
   "metadata": {},
   "source": [
    "### Implementation: Training and Testing Data Split\n",
    "So far, we have converted all _categorical_ features into numeric values. For the next step, we split the data (both features and corresponding labels) into training and test sets. In the following code cell below, you will need to implement the following:\n",
    "- Randomly shuffle and split the data (`X_all`, `y_all`) into training and testing subsets.\n",
    "  - Use 300 training points (approximately 75%) and 95 testing points (approximately 25%).\n",
    "  - Set a `random_state` for the function(s) you use, if provided.\n",
    "  - Store the results in `X_train`, `X_test`, `y_train`, and `y_test`."
   ]
  },
  {
   "cell_type": "code",
   "execution_count": 5,
   "metadata": {
    "collapsed": false
   },
   "outputs": [
    {
     "name": "stdout",
     "output_type": "stream",
     "text": [
      "Training set has 300 samples.\n",
      "Testing set has 95 samples.\n",
      "\n",
      "Trainig yes to no balance:\n",
      "yes    201\n",
      "no      99\n",
      "Name: passed, dtype: int64\n",
      "\n",
      "Testing yes to no balance:\n",
      "yes    64\n",
      "no     31\n",
      "Name: passed, dtype: int64\n",
      "\n",
      "Both the training targets and the test tragets are imbalance. There is ~ 3:1 ratio of yes and no\n",
      "\n",
      "F1 score for predicting all 'yes': 0.8030\n",
      "We should get a different F1 score for our models, otherwise it could mean we are just predicting yes everything.. \n"
     ]
    }
   ],
   "source": [
    "# TODO: Import any additional functionality you may need here\n",
    "from sklearn import cross_validation\n",
    "\n",
    "# TODO: Set the number of training points\n",
    "num_train = 300\n",
    "\n",
    "# Set the number of testing points\n",
    "num_test = X_all.shape[0] - num_train\n",
    "\n",
    "# TODO: Shuffle and split the dataset into the number of training and testing points above\n",
    "X_train = None\n",
    "X_test = None\n",
    "y_train = None\n",
    "y_test = None\n",
    "# Added the stratify parameter as per reviewer one to match the ratio between training and test.\n",
    "X_train, X_test, y_train, y_test = cross_validation.train_test_split(X_all, y_all, stratify=y_all,train_size=num_train, test_size=num_test, random_state=5)\n",
    "\n",
    "# Show the results of the split\n",
    "print \"Training set has {} samples.\".format(X_train.shape[0])\n",
    "print \"Testing set has {} samples.\".format(X_test.shape[0])\n",
    "\n",
    "# Imbalance Analysis (Tips from the first review)\n",
    "print \n",
    "print \"Trainig yes to no balance:\"\n",
    "print y_train.value_counts()\n",
    "print\n",
    "print \"Testing yes to no balance:\"\n",
    "print y_test.value_counts()\n",
    "print \n",
    "print \"Both the training targets and the test tragets are imbalance. There is ~ 3:1 ratio of yes and no\"\n",
    "\n",
    "from sklearn.metrics import f1_score\n",
    "print \"\\nF1 score for predicting all 'yes': {:.4f}\".format(\n",
    "    f1_score(y_true = ['yes']*n_passed + ['no']*n_failed, y_pred = ['yes']*n_students, pos_label='yes', average='binary'))\n",
    "\n",
    "print \"We should get a different F1 score for our models, otherwise it could mean we are just predicting yes everything.. \""
   ]
  },
  {
   "cell_type": "markdown",
   "metadata": {},
   "source": [
    "## Training and Evaluating Models\n",
    "In this section, you will choose 3 supervised learning models that are appropriate for this problem and available in `scikit-learn`. You will first discuss the reasoning behind choosing these three models by considering what you know about the data and each model's strengths and weaknesses. You will then fit the model to varying sizes of training data (100 data points, 200 data points, and 300 data points) and measure the F<sub>1</sub> score. You will need to produce three tables (one for each model) that shows the training set size, training time, prediction time, F<sub>1</sub> score on the training set, and F<sub>1</sub> score on the testing set.\n",
    "\n",
    "**The following supervised learning models are currently available in** [`scikit-learn`](http://scikit-learn.org/stable/supervised_learning.html) **that you may choose from:**\n",
    "- Gaussian Naive Bayes (GaussianNB)\n",
    "- Decision Trees\n",
    "- Ensemble Methods (Bagging, AdaBoost, Random Forest, Gradient Boosting)\n",
    "- K-Nearest Neighbors (KNeighbors)\n",
    "- Stochastic Gradient Descent (SGDC)\n",
    "- Support Vector Machines (SVM)\n",
    "- Logistic Regression"
   ]
  },
  {
   "cell_type": "markdown",
   "metadata": {},
   "source": [
    "### Question 2 - Model Application\n",
    "*List three supervised learning models that are appropriate for this problem. For each model chosen*\n",
    "- Describe one real-world application in industry where the model can be applied. *(You may need to do a small bit of research for this — give references!)* \n",
    "- What are the strengths of the model; when does it perform well? \n",
    "- What are the weaknesses of the model; when does it perform poorly?\n",
    "- What makes this model a good candidate for the problem, given what you know about the data?"
   ]
  },
  {
   "cell_type": "markdown",
   "metadata": {},
   "source": [
    "**Answer: **\n",
    "### Gaussian Naive Bayes\n",
    "**Describe one real-world application in industry where the model can be applied. (You may need to do a small bit of research for this — give references!)**\n",
    "Document classification is an example of the used of the ML Naive Bayes classification model. As the WikiPidia site \"https://en.wikipedia.org/wiki/Document_classification\" stays, one of the common methods to automatically classify library documents is using supervise learning and one of the technic is Naive Bayes.\n",
    "**What are the strengths of the model; when does it perform well?**\n",
    "Performs well with high dimesional data sets.\n",
    "Performs well with small training data sets.\n",
    "Performs well because of its independence features property, all features are tretaed the same (weightless).\n",
    "**What are the weaknesses of the model; when does it perform poorly?**\n",
    "It can't learn dependencies of features. Example occurence of \"A\" affects positively an outcome and the occurrence \"B\" also does it, but ocurrence of \"A\" and \"B\" at the same time affects it negatively.\n",
    "Because it doesn't related features is not good for continues problems.\n",
    "**What makes this model a good candidate for the problem, given what you know about the data?**\n",
    "Few training points 300 points\n",
    "Clasification problem (discrete output not continues)\n",
    "\n",
    "### Decision Trees\n",
    "**Describe one real-world application in industry where the model can be applied. (You may need to do a small bit of research for this — give references!)**\n",
    "Decision trees have helped in star-galaxy classification \"http://adsabs.harvard.edu/abs/1995AJ....109.2401W\"\n",
    "**What are the strengths of the model; when does it perform well?**\n",
    "Decision trees models are human readable so it can be interpreted. One can see how the classifier gets to the prediction by looking at the tree.\n",
    "Contrary to Naive Bayes, decision trees models the relation between the features.\n",
    "**What are the weaknesses of the model; when does it perform poorly?**\n",
    "Performs poorly when the problem has a large set of features and training data is not enought. This causes the classifier to overfit and not generalize well, if it is presented with new data.\n",
    "Once the model has learned, it can't be improved by adding new evidence, it has to be re-trained. This is caused because it is an eager leaner, once it is trained it creates a general function to predic future data. The function depends on what the model learned from the training data. New evidence that wasn't on the training data can negatively impact future prediction unless the classifier be trained again including the new data.\n",
    "**What makes this model a good candidate for the problem, given what you know about the data?**\n",
    "Decision trees models perform really well in classification problems.\n",
    "If the data is not lianry separatable still performs well.\n",
    "It takes in cosideration the dependent relation between features.\n",
    "\n",
    "\n",
    "### Support Vector Machines (SVM) ###\n",
    "**Describe one real-world application in industry where the model can be applied. (You may need to do a small bit of research for this — give references!)**\n",
    "SVM is used in the classification of ECG signals (http://www.iaeng.org/IJAM/issues_v36/issue_2/IJAM_36_2_4.pdf). Other ares in bioinformatic that also benefits from SVM is the gene classification, molecule classification, etc.\n",
    "**What are the strengths of the model; when does it perform well?**\n",
    "Its performs well in non lineary separable classes.\n",
    "Works best in binary classifications. Using kernels can classify objects by separated them on a higher dimesion.\n",
    "**What are the weaknesses of the model; when does it perform poorly?**\n",
    "No good with noise class overlapping.\n",
    "Don't work well when there a lot data points.\n",
    "Higher resources cost and slower prediction than other classifiers like Decision Trees.\n",
    "Ensemble models are very complex and can have high computational cost.\n",
    "**What makes this model a good candidate for the problem, given what you know about the data?**\n",
    "Few data points, Binary classification problem.\n",
    "\n",
    "\n"
   ]
  },
  {
   "cell_type": "markdown",
   "metadata": {},
   "source": [
    "### Setup\n",
    "Run the code cell below to initialize three helper functions which you can use for training and testing the three supervised learning models you've chosen above. The functions are as follows:\n",
    "- `train_classifier` - takes as input a classifier and training data and fits the classifier to the data.\n",
    "- `predict_labels` - takes as input a fit classifier, features, and a target labeling and makes predictions using the F<sub>1</sub> score.\n",
    "- `train_predict` - takes as input a classifier, and the training and testing data, and performs `train_clasifier` and `predict_labels`.\n",
    " - This function will report the F<sub>1</sub> score for both the training and testing data separately."
   ]
  },
  {
   "cell_type": "code",
   "execution_count": 6,
   "metadata": {
    "collapsed": false
   },
   "outputs": [],
   "source": [
    "def train_classifier(clf, X_train, y_train):\n",
    "    ''' Fits a classifier to the training data. '''\n",
    "    # Start the clock, train the classifier, then stop the clock\n",
    "    start = time()\n",
    "    clf.fit(X_train, y_train)\n",
    "    end = time()\n",
    "    \n",
    "    # Print the results\n",
    "    print \"Trained model in {:.4f} seconds\".format(end - start)\n",
    "\n",
    "    \n",
    "def predict_labels(clf, features, target):\n",
    "    ''' Makes predictions using a fit classifier based on F1 score. '''\n",
    "    \n",
    "    # Start the clock, make predictions, then stop the clock\n",
    "    start = time()\n",
    "    y_pred = clf.predict(features)\n",
    "    end = time()\n",
    "    \n",
    "    # Print and return results\n",
    "    print \"Made predictions in {:.4f} seconds.\".format(end - start)\n",
    "    return f1_score(target.values, y_pred, pos_label='yes')\n",
    "\n",
    "\n",
    "def train_predict(clf, X_train, y_train, X_test, y_test):\n",
    "    ''' Train and predict using a classifer based on F1 score. '''\n",
    "    \n",
    "    # Indicate the classifier and the training set size\n",
    "    print \"Training a {} using a training set size of {}. . .\".format(clf.__class__.__name__, len(X_train))\n",
    "    \n",
    "    # Train the classifier\n",
    "    train_classifier(clf, X_train, y_train)\n",
    "    \n",
    "    # Print the results of prediction for both training and testing\n",
    "    print \"F1 score for training set: {:.4f}.\".format(predict_labels(clf, X_train, y_train))\n",
    "    print \"F1 score for test set: {:.4f}.\".format(predict_labels(clf, X_test, y_test))"
   ]
  },
  {
   "cell_type": "markdown",
   "metadata": {},
   "source": [
    "### Implementation: Model Performance Metrics\n",
    "With the predefined functions above, you will now import the three supervised learning models of your choice and run the `train_predict` function for each one. Remember that you will need to train and predict on each classifier for three different training set sizes: 100, 200, and 300. Hence, you should expect to have 9 different outputs below — 3 for each model using the varying training set sizes. In the following code cell, you will need to implement the following:\n",
    "- Import the three supervised learning models you've discussed in the previous section.\n",
    "- Initialize the three models and store them in `clf_A`, `clf_B`, and `clf_C`.\n",
    " - Use a `random_state` for each model you use, if provided.\n",
    " - **Note:** Use the default settings for each model — you will tune one specific model in a later section.\n",
    "- Create the different training set sizes to be used to train each model.\n",
    " - *Do not reshuffle and resplit the data! The new training points should be drawn from `X_train` and `y_train`.*\n",
    "- Fit each model with each training set size and make predictions on the test set (9 in total).  \n",
    "**Note:** Three tables are provided after the following code cell which can be used to store your results."
   ]
  },
  {
   "cell_type": "code",
   "execution_count": 7,
   "metadata": {
    "collapsed": false
   },
   "outputs": [
    {
     "name": "stdout",
     "output_type": "stream",
     "text": [
      "\n",
      "GaussianNB: \n",
      "\n",
      "Training a GaussianNB using a training set size of 100. . .\n",
      "Trained model in 0.0014 seconds\n",
      "Made predictions in 0.0004 seconds.\n",
      "F1 score for training set: 0.8811.\n",
      "Made predictions in 0.0005 seconds.\n",
      "F1 score for test set: 0.7846.\n",
      "Training a GaussianNB using a training set size of 200. . .\n",
      "Trained model in 0.0011 seconds\n",
      "Made predictions in 0.0005 seconds.\n",
      "F1 score for training set: 0.7985.\n",
      "Made predictions in 0.0003 seconds.\n",
      "F1 score for test set: 0.8000.\n",
      "Training a GaussianNB using a training set size of 300. . .\n",
      "Trained model in 0.0012 seconds\n",
      "Made predictions in 0.0004 seconds.\n",
      "F1 score for training set: 0.7674.\n",
      "Made predictions in 0.0003 seconds.\n",
      "F1 score for test set: 0.7969.\n",
      "\n",
      "DecisionTreeClassifier: \n",
      "\n",
      "Training a DecisionTreeClassifier using a training set size of 100. . .\n",
      "Trained model in 0.0008 seconds\n",
      "Made predictions in 0.0002 seconds.\n",
      "F1 score for training set: 1.0000.\n",
      "Made predictions in 0.0002 seconds.\n",
      "F1 score for test set: 0.7481.\n",
      "Training a DecisionTreeClassifier using a training set size of 200. . .\n",
      "Trained model in 0.0012 seconds\n",
      "Made predictions in 0.0002 seconds.\n",
      "F1 score for training set: 1.0000.\n",
      "Made predictions in 0.0001 seconds.\n",
      "F1 score for test set: 0.7692.\n",
      "Training a DecisionTreeClassifier using a training set size of 300. . .\n",
      "Trained model in 0.0019 seconds\n",
      "Made predictions in 0.0002 seconds.\n",
      "F1 score for training set: 1.0000.\n",
      "Made predictions in 0.0001 seconds.\n",
      "F1 score for test set: 0.6780.\n",
      "\n",
      "RandomForestClassifier: \n",
      "\n",
      "Training a RandomForestClassifier using a training set size of 100. . .\n",
      "Trained model in 0.0155 seconds\n",
      "Made predictions in 0.0008 seconds.\n",
      "F1 score for training set: 0.9929.\n",
      "Made predictions in 0.0007 seconds.\n",
      "F1 score for test set: 0.7737.\n",
      "Training a RandomForestClassifier using a training set size of 200. . .\n",
      "Trained model in 0.0160 seconds\n",
      "Made predictions in 0.0009 seconds.\n",
      "F1 score for training set: 0.9963.\n",
      "Made predictions in 0.0008 seconds.\n",
      "F1 score for test set: 0.7176.\n",
      "Training a RandomForestClassifier using a training set size of 300. . .\n",
      "Trained model in 0.0472 seconds\n",
      "Made predictions in 0.0010 seconds.\n",
      "F1 score for training set: 0.9877.\n",
      "Made predictions in 0.0008 seconds.\n",
      "F1 score for test set: 0.7559.\n",
      "\n",
      "SVC: \n",
      "\n",
      "Training a SVC using a training set size of 100. . .\n",
      "Trained model in 0.0012 seconds\n",
      "Made predictions in 0.0008 seconds.\n",
      "F1 score for training set: 0.8589.\n",
      "Made predictions in 0.0007 seconds.\n",
      "F1 score for test set: 0.8077.\n",
      "Training a SVC using a training set size of 200. . .\n",
      "Trained model in 0.0034 seconds\n",
      "Made predictions in 0.0025 seconds.\n",
      "F1 score for training set: 0.8571.\n",
      "Made predictions in 0.0013 seconds.\n",
      "F1 score for test set: 0.8052.\n",
      "Training a SVC using a training set size of 300. . .\n",
      "Trained model in 0.0069 seconds\n",
      "Made predictions in 0.0051 seconds.\n",
      "F1 score for training set: 0.8590.\n",
      "Made predictions in 0.0017 seconds.\n",
      "F1 score for test set: 0.8163.\n",
      "F1 score for predicting all \"yes\" on test set: 0.8050\n"
     ]
    }
   ],
   "source": [
    "# TODO: Import the three supervised learning models from sklearn\n",
    "# from sklearn import model_A\n",
    "# from sklearn import model_B\n",
    "# from skearln import model_C\n",
    "from sklearn.naive_bayes import GaussianNB\n",
    "from sklearn import tree\n",
    "from sklearn.ensemble import RandomForestClassifier\n",
    "from sklearn.svm import SVC\n",
    "\n",
    "# TODO: Initialize the three models\n",
    "# Even if I explored RF I am not going to consider it. Second reviewer recommended adding this parameter random state for\n",
    "# all the classifier that support it\n",
    "clf_A = GaussianNB()\n",
    "clf_B = tree.DecisionTreeClassifier(random_state = 42)\n",
    "clf_C = RandomForestClassifier(random_state = 42)  \n",
    "clf_D = SVC(random_state = 42)\n",
    "\n",
    "# TODO: Set up the training set sizes\n",
    "\n",
    "X_train_100 = X_train[:100]\n",
    "y_train_100 = y_train[:100]\n",
    "\n",
    "X_train_200 = X_train[:200]\n",
    "y_train_200 = y_train[:200]\n",
    "\n",
    "X_train_300 = X_train[:300]\n",
    "y_train_300 = y_train[:300]\n",
    "\n",
    "# TODO: Execute the 'train_predict' function for each classifier and each training set size\n",
    "# train_predict(clf, X_train, y_train, X_test, y_test)\n",
    "# As per review recommendation I simplified  the code using loops.\n",
    "# TODO: loop thru models\n",
    "for clf in [clf_A,clf_B,clf_C,clf_D]:\n",
    "\n",
    "    # show the estimator type\n",
    "    print \"\\n{}: \\n\".format(clf.__class__.__name__)\n",
    "\n",
    "    # TODO: loop thru training sizes\n",
    "    for n in [100,200,300]:\n",
    "\n",
    "        # fit model using \"n\" training data points (i.e., 100, 200, or 300)\n",
    "        train_predict(clf, X_train[:n], y_train[:n], X_test, y_test)\n",
    "\n",
    "# Recommended Benchmark First Review\n",
    "from sklearn.metrics import f1_score\n",
    "print \"F1 score for predicting all \\\"yes\\\" on test set: {:.4f}\".format(\n",
    "    f1_score(y_test, ['yes']*len(y_test), pos_label='yes', average='binary'))\n"
   ]
  },
  {
   "cell_type": "markdown",
   "metadata": {},
   "source": [
    "### Tabular Results\n",
    "Edit the cell below to see how a table can be designed in [Markdown](https://github.com/adam-p/markdown-here/wiki/Markdown-Cheatsheet#tables). You can record your results from above in the tables provided."
   ]
  },
  {
   "cell_type": "markdown",
   "metadata": {},
   "source": [
    "** Classifer 1 - Naive Bayes**  \n",
    "\n",
    "| Training Set Size | Training Time | Prediction Time (test) | F1 Score (train) | F1 Score (test) |\n",
    "| :---------------: | :---------------------: | :--------------------: | :--------------: | :-------------: |\n",
    "| 100               |    0.0014               |    0.0004              |   0.8811         |    0.7846       |\n",
    "| 200               |    0.0011               |    0.0005              |   0.7985         |    0.8000       |\n",
    "| 300               |    0.0012               |    0.0004              |   0.7674         |    0.7969       |\n",
    "\n",
    "** Classifer 2 - Decision Trees**  \n",
    "\n",
    "| Training Set Size | Training Time | Prediction Time (test) | F1 Score (train) | F1 Score (test) |\n",
    "| :---------------: | :---------------------: | :--------------------: | :--------------: | :-------------: |\n",
    "| 100               |     0.0008              |        0.0002          |     1.0000       |     0.7481      |\n",
    "| 200               |     0.0012              |        0.0002          |     1.0000       |     0.7692      |\n",
    "| 300               |     0.0019              |        0.0002          |     1.0000       |     0.6780      |\n",
    "\n",
    "** Classifer 3 - SVC**  \n",
    "\n",
    "| Training Set Size | Training Time | Prediction Time (test) | F1 Score (train) | F1 Score (test) |\n",
    "| :---------------: | :---------------------: | :--------------------: | :--------------: | :-------------: |\n",
    "| 100               |       0.0012            |        0.0008          |      0.8589      |     0.8077      |\n",
    "| 200               |       0.0034            |        0.0025          |      0.8571      |     0.8052      |\n",
    "| 300               |       0.0069            |        0.0038          |      0.8590      |     0.8163      |\n",
    "\n"
   ]
  },
  {
   "cell_type": "markdown",
   "metadata": {},
   "source": [
    "## Choosing the Best Model\n",
    "In this final section, you will choose from the three supervised learning models the *best* model to use on the student data. You will then perform a grid search optimization for the model over the entire training set (`X_train` and `y_train`) by tuning at least one parameter to improve upon the untuned model's F<sub>1</sub> score. "
   ]
  },
  {
   "cell_type": "markdown",
   "metadata": {},
   "source": [
    "### Question 3 - Choosing the Best Model\n",
    "*Based on the experiments you performed earlier, in one to two paragraphs, explain to the board of supervisors what single model you chose as the best model. Which model is generally the most appropriate based on the available data, limited resources, cost, and performance?*"
   ]
  },
  {
   "cell_type": "markdown",
   "metadata": {},
   "source": [
    "**Answer: **\n",
    "what single model you chose as the best model?\n",
    "The first time I submitted the project the Decision Tree gave me the best scores. After understand the imbalance concept and applying the stratify paramter in the splitting of the data, the Support Vector Machine improved a lot, so I decided to change my choice to SVC. It performed way better than DT before been optimized and after. \n",
    "\n",
    "After comparing the f1 score of predicting all the values as \"yes\" in the test sets with the SVM score, the SVM score is higher which means that is predicting the \"no\" classess correctly.\n",
    "\n",
    "\n",
    "Which model is generally the most appropriate based on the available data, limited resources, cost, and performance?\n",
    "\\>>>Available Data Properties:\n",
    "Giving the small sample of data, high dimensionality (30 features) and  potential features depndency; the appropiate model is SVM.  DT came close in second, but even if the computational cost of training and the prediction time of SVM if higher than DT, once the SVM is optimized using GridSearch it produces better scores than the optimized version of DT. \n",
    "\n",
    "\\>>>limited resources:\n",
    "We only have 395 data points in total and because of cross validation what is left for training is a very small sample set. Based on the scores it looks like the features have some small degree of dependency. \n",
    "\n",
    "\\>>>cost:\n",
    "DT seems to be the one that has less computational cost and better response time. But SVM produces better results. \n",
    "\n",
    "\\>>>performance:\n",
    "Of all three models SVM produced the best test scores. DT came close in second."
   ]
  },
  {
   "cell_type": "markdown",
   "metadata": {},
   "source": [
    "### Question 4 - Model in Layman's Terms\n",
    "*In one to two paragraphs, explain to the board of directors in layman's terms how the final model chosen is supposed to work. Be sure that you are describing the major qualities of the model, such as how the model is trained and how the model makes a prediction. Avoid using advanced mathematical or technical jargon, such as describing equations or discussing the algorithm implementation.*"
   ]
  },
  {
   "cell_type": "markdown",
   "metadata": {},
   "source": [
    "**Answer: **\n",
    "Support Vector Machine is a classification computational algorithm. By classification we means the action of grouping objects according to shared qualities or characteristics. The human brain perform such task by separating objects with similar characteristics. Humans usually separate the objects apart by creating enough physical space between them so a second observer can easily perceive them as 2 separate classes of the same object. Example of this is a table with ping pong balls of 2 different colors (blue and purple) if we separate them but the space we leave between the 2 groups is not larger enough an observer requires to be close to the table to differentiate them, so the more space we put between the 2 type of balls the better the observer will be able to distinguish the 2 classe. It is important to notice that the space between ball of different colors will be the distance between the closest blue and purple color balls.\n",
    "\n",
    "A support Vector Machine is a programatically way to instruct a computer to do exactly what a human does but instead of doing it in a physical world it is done in a digital one. In the digital world and using the same example of the previous paragraph, the color balls become just color dots in a  screen, SVM using a coordinate system map all the dots location on the screen and them draws lines over the closest 2 dots of different colors. The distance between those 2 lines is equivalent to the space humans produce by separting the balls on the table. That space is called the \"marging\". Same as in the physical world the larger the marging the better an observer can separate the type of objects. \n",
    "\n",
    "Going back the the example of the balls in a physical world, let us say that the blue balls are encircling the purple ones. A person has to be more resourceful and separate them without re-arrange them. It does it by creating a surronding space between the 2 colors. Computers can't do the same using the line trick with learned before so what a computer does is add more space dimensions to do the trick. If you have been in a movie theather recently you probably has watch a 3D movie. In a 3D movie you see all kind of objects getting out of screen while others stays behind. You know that the movie screen is flat so there is trick done by the camera that produces that effect. That is exacly what the SVM program does it raises the purple dots leaving behind the blues and now the 2 dots types are separated in a 3D space. After the separation is done SVM slices both groups with what will look like in the real world as a sheet of paper, that sheet of paper is called a \"hyperplane\". If all the sudden the 3D dissapears this hyperplane will left behind a circular line that separate the colors dots. This trick that projects the dots in a 3D dimesion and creates the circular separation is achived by adding to KVM program a mathematical helper function called the kernel.  "
   ]
  },
  {
   "cell_type": "markdown",
   "metadata": {},
   "source": [
    "### Implementation: Model Tuning\n",
    "Fine tune the chosen model. Use grid search (`GridSearchCV`) with at least one important parameter tuned with at least 3 different values. You will need to use the entire training set for this. In the code cell below, you will need to implement the following:\n",
    "- Import [`sklearn.grid_search.GridSearchCV`](http://scikit-learn.org/0.17/modules/generated/sklearn.grid_search.GridSearchCV.html) and [`sklearn.metrics.make_scorer`](http://scikit-learn.org/stable/modules/generated/sklearn.metrics.make_scorer.html).\n",
    "- Create a dictionary of parameters you wish to tune for the chosen model.\n",
    " - Example: `parameters = {'parameter' : [list of values]}`.\n",
    "- Initialize the classifier you've chosen and store it in `clf`.\n",
    "- Create the F<sub>1</sub> scoring function using `make_scorer` and store it in `f1_scorer`.\n",
    " - Set the `pos_label` parameter to the correct value!\n",
    "- Perform grid search on the classifier `clf` using `f1_scorer` as the scoring method, and store it in `grid_obj`.\n",
    "- Fit the grid search object to the training data (`X_train`, `y_train`), and store it in `grid_obj`."
   ]
  },
  {
   "cell_type": "code",
   "execution_count": 25,
   "metadata": {
    "collapsed": false
   },
   "outputs": [
    {
     "name": "stdout",
     "output_type": "stream",
     "text": [
      "Made predictions in 0.0046 seconds.\n",
      "Tuned model has a training F1 score of 0.8206.\n",
      "Made predictions in 0.0015 seconds.\n",
      "Tuned model has a testing F1 score of 0.8299.\n",
      "\n"
     ]
    },
    {
     "data": {
      "text/html": [
       "<div>\n",
       "<table border=\"1\" class=\"dataframe\">\n",
       "  <thead>\n",
       "    <tr style=\"text-align: right;\">\n",
       "      <th></th>\n",
       "      <th>parameters</th>\n",
       "      <th>mean_validation_score</th>\n",
       "      <th>cv_validation_scores</th>\n",
       "    </tr>\n",
       "  </thead>\n",
       "  <tbody>\n",
       "    <tr>\n",
       "      <th>0</th>\n",
       "      <td>{u'kernel': u'rbf', u'C': 1, u'gamma': 0.001}</td>\n",
       "      <td>0.802395</td>\n",
       "      <td>[0.802395209581, 0.802395209581, 0.802395209581]</td>\n",
       "    </tr>\n",
       "    <tr>\n",
       "      <th>1</th>\n",
       "      <td>{u'kernel': u'rbf', u'C': 1, u'gamma': 0.0001}</td>\n",
       "      <td>0.802395</td>\n",
       "      <td>[0.802395209581, 0.802395209581, 0.802395209581]</td>\n",
       "    </tr>\n",
       "    <tr>\n",
       "      <th>2</th>\n",
       "      <td>{u'kernel': u'rbf', u'C': 10, u'gamma': 0.001}</td>\n",
       "      <td>0.807438</td>\n",
       "      <td>[0.805031446541, 0.802469135802, 0.814814814815]</td>\n",
       "    </tr>\n",
       "    <tr>\n",
       "      <th>3</th>\n",
       "      <td>{u'kernel': u'rbf', u'C': 10, u'gamma': 0.0001}</td>\n",
       "      <td>0.802395</td>\n",
       "      <td>[0.802395209581, 0.802395209581, 0.802395209581]</td>\n",
       "    </tr>\n",
       "    <tr>\n",
       "      <th>4</th>\n",
       "      <td>{u'kernel': u'rbf', u'C': 100, u'gamma': 0.001}</td>\n",
       "      <td>0.759138</td>\n",
       "      <td>[0.773333333333, 0.775510204082, 0.728571428571]</td>\n",
       "    </tr>\n",
       "    <tr>\n",
       "      <th>5</th>\n",
       "      <td>{u'kernel': u'rbf', u'C': 100, u'gamma': 0.0001}</td>\n",
       "      <td>0.811449</td>\n",
       "      <td>[0.805031446541, 0.807228915663, 0.822085889571]</td>\n",
       "    </tr>\n",
       "    <tr>\n",
       "      <th>6</th>\n",
       "      <td>{u'kernel': u'rbf', u'C': 1000, u'gamma': 0.001}</td>\n",
       "      <td>0.747045</td>\n",
       "      <td>[0.709219858156, 0.780141843972, 0.751773049645]</td>\n",
       "    </tr>\n",
       "    <tr>\n",
       "      <th>7</th>\n",
       "      <td>{u'kernel': u'rbf', u'C': 1000, u'gamma': 0.0001}</td>\n",
       "      <td>0.787106</td>\n",
       "      <td>[0.797385620915, 0.794701986755, 0.769230769231]</td>\n",
       "    </tr>\n",
       "  </tbody>\n",
       "</table>\n",
       "</div>"
      ],
      "text/plain": [
       "                                          parameters  mean_validation_score  \\\n",
       "0      {u'kernel': u'rbf', u'C': 1, u'gamma': 0.001}               0.802395   \n",
       "1     {u'kernel': u'rbf', u'C': 1, u'gamma': 0.0001}               0.802395   \n",
       "2     {u'kernel': u'rbf', u'C': 10, u'gamma': 0.001}               0.807438   \n",
       "3    {u'kernel': u'rbf', u'C': 10, u'gamma': 0.0001}               0.802395   \n",
       "4    {u'kernel': u'rbf', u'C': 100, u'gamma': 0.001}               0.759138   \n",
       "5   {u'kernel': u'rbf', u'C': 100, u'gamma': 0.0001}               0.811449   \n",
       "6   {u'kernel': u'rbf', u'C': 1000, u'gamma': 0.001}               0.747045   \n",
       "7  {u'kernel': u'rbf', u'C': 1000, u'gamma': 0.0001}               0.787106   \n",
       "\n",
       "                               cv_validation_scores  \n",
       "0  [0.802395209581, 0.802395209581, 0.802395209581]  \n",
       "1  [0.802395209581, 0.802395209581, 0.802395209581]  \n",
       "2  [0.805031446541, 0.802469135802, 0.814814814815]  \n",
       "3  [0.802395209581, 0.802395209581, 0.802395209581]  \n",
       "4  [0.773333333333, 0.775510204082, 0.728571428571]  \n",
       "5  [0.805031446541, 0.807228915663, 0.822085889571]  \n",
       "6  [0.709219858156, 0.780141843972, 0.751773049645]  \n",
       "7  [0.797385620915, 0.794701986755, 0.769230769231]  "
      ]
     },
     "metadata": {},
     "output_type": "display_data"
    }
   ],
   "source": [
    "# TODO: Import 'GridSearchCV' and 'make_scorer'\n",
    "from sklearn import grid_search\n",
    "from sklearn.metrics import make_scorer\n",
    "from sklearn.tree import DecisionTreeClassifier\n",
    "from sklearn import svm\n",
    "\n",
    "# TODO: Create the parameters list you wish to tune\n",
    "#parameters = {'max_depth':range(1,20),'min_samples_leaf':range(5,10)}\n",
    "parameters = {'C': [1, 10, 100, 1000], 'gamma': [0.001, 0.0001], 'kernel': ['rbf']}\n",
    "\n",
    "# TODO: Initialize the classifier\n",
    "#clf = DecisionTreeClassifier()\n",
    "clf = SVC()\n",
    "\n",
    "# TODO: Make an f1 scoring function using 'make_scorer'\n",
    "def performance_metric(y_true, y_predict):\n",
    "    from sklearn.metrics import f1_score\n",
    "    score = f1_score(y_true,y_predict,pos_label=\"yes\")\n",
    "    return score\n",
    "\n",
    "f1_scorer = make_scorer(performance_metric)\n",
    "\n",
    "# TODO: Perform grid search on the classifier using the f1_scorer as the scoring method\n",
    "grid_obj = grid_search.GridSearchCV(clf,parameters,scoring=f1_scorer)\n",
    "\n",
    "# TODO: Fit the grid search object to the training data and find the optimal parameters\n",
    "grid_obj = grid_obj.fit(X_train,y_train)\n",
    "\n",
    "# Get the estimator\n",
    "clf = grid_obj.best_estimator_\n",
    "\n",
    "# Report the final F1 score for training and testing after parameter tuning\n",
    "print \"Tuned model has a training F1 score of {:.4f}.\".format(predict_labels(clf, X_train, y_train))\n",
    "print \"Tuned model has a testing F1 score of {:.4f}.\".format(predict_labels(clf, X_test, y_test))\n",
    "\n",
    "print\n",
    "\n",
    "from IPython.display import display\n",
    "display(pd.DataFrame(grid_obj.grid_scores_))\n",
    "\n"
   ]
  },
  {
   "cell_type": "markdown",
   "metadata": {},
   "source": [
    "### Question 5 - Final F<sub>1</sub> Score\n",
    "*What is the final model's F<sub>1</sub> score for training and testing? How does that score compare to the untuned model?*"
   ]
  },
  {
   "cell_type": "markdown",
   "metadata": {},
   "source": [
    "**Answer: **\n",
    "What is the final model's F1 score for training and testing?\n",
    "Training: 0.8206\n",
    "Test: 0.8299\n",
    "\n",
    "How does that score compare to the untuned model?\n",
    "After tuned the model we can see a significant improvement on the test score."
   ]
  },
  {
   "cell_type": "markdown",
   "metadata": {},
   "source": [
    "> **Note**: Once you have completed all of the code implementations and successfully answered each question above, you may finalize your work by exporting the iPython Notebook as an HTML document. You can do this by using the menu above and navigating to  \n",
    "**File -> Download as -> HTML (.html)**. Include the finished document along with this notebook as your submission."
   ]
  }
 ],
 "metadata": {
  "anaconda-cloud": {},
  "kernelspec": {
   "display_name": "Python [Root]",
   "language": "python",
   "name": "Python [Root]"
  },
  "language_info": {
   "codemirror_mode": {
    "name": "ipython",
    "version": 2
   },
   "file_extension": ".py",
   "mimetype": "text/x-python",
   "name": "python",
   "nbconvert_exporter": "python",
   "pygments_lexer": "ipython2",
   "version": "2.7.12"
  }
 },
 "nbformat": 4,
 "nbformat_minor": 0
}
